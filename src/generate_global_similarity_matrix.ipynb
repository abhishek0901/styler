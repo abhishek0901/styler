{
 "cells": [
  {
   "cell_type": "code",
   "execution_count": 21,
   "metadata": {},
   "outputs": [],
   "source": [
    "import pandas as pd\n",
    "import numpy as np"
   ]
  },
  {
   "cell_type": "code",
   "execution_count": 22,
   "metadata": {},
   "outputs": [],
   "source": [
    "color_df = pd.read_csv(\"data/train/color_info/color_metrics.csv\")"
   ]
  },
  {
   "cell_type": "code",
   "execution_count": 23,
   "metadata": {},
   "outputs": [],
   "source": [
    "top_color  = set(color_df.top_color.unique())\n",
    "bottom_color = set(color_df.bottom_color.unique())\n",
    "\n",
    "all_colors = top_color | bottom_color"
   ]
  },
  {
   "cell_type": "code",
   "execution_count": 24,
   "metadata": {},
   "outputs": [],
   "source": [
    "from collections import defaultdict"
   ]
  },
  {
   "cell_type": "code",
   "execution_count": 25,
   "metadata": {},
   "outputs": [],
   "source": [
    "analyzer = {\n",
    "    \"default\":0,\n",
    "    \"top\":0,\n",
    "    \"bottom\":0\n",
    "}\n",
    "data = defaultdict(lambda: defaultdict(int))\n",
    "\n",
    "for _, row in color_df.iterrows():\n",
    "    top_color = row.top_color\n",
    "    bottom_color = row.bottom_color\n",
    "    top_type = row.top_type\n",
    "    bottom_type = row.bottom_type\n",
    "\n",
    "    if top_color is not np.nan and bottom_color is not np.nan:\n",
    "        data[top_color][bottom_color] = data[top_color][bottom_color] + 1\n",
    "        data[bottom_color][top_color] = data[bottom_color][top_color] + 1\n",
    "        analyzer[\"default\"] += 1\n",
    "    elif top_color is not np.nan and top_type == \"DRESSES\":\n",
    "        data[top_color][top_color] = data[top_color][top_color] + 2\n",
    "        analyzer[\"top\"] += 1\n",
    "    elif bottom_color is not np.nan and (top_type == \"DRESSES\" or bottom_type == \"DRESSES\"):\n",
    "        data[bottom_color][bottom_color] = data[bottom_color][bottom_color] + 2\n",
    "        analyzer[\"bottom\"] += 1"
   ]
  },
  {
   "cell_type": "markdown",
   "metadata": {},
   "source": [
    "$\\text{Cosine Similarity}$\n",
    "$$\n",
    "w_{ij} = \\frac{|N(i) \\cap N(j)|}{|N(i)N(j)|}\n",
    "$$"
   ]
  },
  {
   "cell_type": "code",
   "execution_count": 26,
   "metadata": {},
   "outputs": [],
   "source": [
    "color_to_index = {color: i for i,color in enumerate(all_colors)}"
   ]
  },
  {
   "cell_type": "code",
   "execution_count": 27,
   "metadata": {},
   "outputs": [],
   "source": [
    "count_color = np.zeros((len(all_colors), len(all_colors)))\n",
    "cosine_similarity = np.zeros((len(all_colors), len(all_colors)))"
   ]
  },
  {
   "cell_type": "code",
   "execution_count": 28,
   "metadata": {},
   "outputs": [],
   "source": [
    "for i, row in enumerate(all_colors):\n",
    "    for j, col in enumerate(all_colors):\n",
    "        count_color[i][j] = data[row][col]"
   ]
  },
  {
   "cell_type": "code",
   "execution_count": 29,
   "metadata": {},
   "outputs": [],
   "source": [
    "for i, row in enumerate(all_colors):\n",
    "    count_row = np.sum(count_color[i,:])\n",
    "    for j, col in enumerate(all_colors):\n",
    "        count_col = np.sum(count_color[:,j])\n",
    "        if count_color[i][j] != 0:\n",
    "            cosine_similarity[i][j] = (count_color[i][j])/(count_row * count_col)"
   ]
  },
  {
   "cell_type": "code",
   "execution_count": 30,
   "metadata": {},
   "outputs": [
    {
     "data": {
      "text/plain": [
       "0.09304113802383698"
      ]
     },
     "execution_count": 30,
     "metadata": {},
     "output_type": "execute_result"
    }
   ],
   "source": [
    "# percentage of non zero values\n",
    "non_zero_values = cosine_similarity[np.nonzero(cosine_similarity)]\n",
    "len(non_zero_values) / (cosine_similarity.shape[0] * cosine_similarity.shape[1])"
   ]
  },
  {
   "cell_type": "code",
   "execution_count": 31,
   "metadata": {},
   "outputs": [],
   "source": [
    "cosine_similarity_exp = np.exp(cosine_similarity) / np.expand_dims(np.sum(np.exp(cosine_similarity), axis=1), 1)"
   ]
  },
  {
   "cell_type": "markdown",
   "metadata": {},
   "source": [
    "$\\text{hard coded values enhance score by 40\\%}$"
   ]
  },
  {
   "cell_type": "code",
   "execution_count": 32,
   "metadata": {},
   "outputs": [],
   "source": [
    "# Hard code good colors\n",
    "hard_coded_colors = pd.read_csv(\"rule_based_color_combination.csv\")"
   ]
  },
  {
   "cell_type": "code",
   "execution_count": 33,
   "metadata": {},
   "outputs": [],
   "source": [
    "import webcolors\n",
    "\n",
    "def closest_colour(requested_colour):\n",
    "      min_colours = {}\n",
    "      for name in webcolors.names(\"css3\"):\n",
    "          r_c, g_c, b_c = webcolors.name_to_rgb(name)\n",
    "          rd = (r_c - requested_colour[0]) ** 2\n",
    "          gd = (g_c - requested_colour[1]) ** 2\n",
    "          bd = (b_c - requested_colour[2]) ** 2\n",
    "          min_colours[(rd + gd + bd)] = name\n",
    "      return min_colours[min(min_colours.keys())]"
   ]
  },
  {
   "cell_type": "code",
   "execution_count": 34,
   "metadata": {},
   "outputs": [
    {
     "name": "stdout",
     "output_type": "stream",
     "text": [
      "'papayawhip'\n"
     ]
    }
   ],
   "source": [
    "for i, row in hard_coded_colors.iterrows():\n",
    "    try:\n",
    "        main_color = closest_colour(list(map(int, row.MainColor.split('-')[:-1])))\n",
    "        comp_color = closest_colour(list(map(int, row.ComplimentaryColor.split('-')[:-1])))\n",
    "\n",
    "        main_color_index = color_to_index[main_color]\n",
    "        comp_color_index = color_to_index[comp_color]\n",
    "\n",
    "        cosine_similarity_exp[main_color_index,comp_color_index] *= 1.4\n",
    "        cosine_similarity_exp[comp_color_index,main_color_index] *= 1.4\n",
    "    except Exception as e:\n",
    "        print(e)"
   ]
  },
  {
   "cell_type": "code",
   "execution_count": 37,
   "metadata": {},
   "outputs": [],
   "source": [
    "class Matrix:\n",
    "    def __init__(self, color_to_index,cosine_similarity_exp):\n",
    "        self.color_to_index = color_to_index\n",
    "        self.cosine_similarity_exp = cosine_similarity_exp"
   ]
  },
  {
   "cell_type": "code",
   "execution_count": 38,
   "metadata": {},
   "outputs": [],
   "source": [
    "matrix = Matrix(color_to_index,cosine_similarity_exp)"
   ]
  },
  {
   "cell_type": "code",
   "execution_count": 39,
   "metadata": {},
   "outputs": [],
   "source": [
    "import pickle \n",
    "with open(\"global_similarity_file\", 'wb') as filehandler:\n",
    "    pickle.dump(matrix, filehandler)"
   ]
  },
  {
   "cell_type": "code",
   "execution_count": 40,
   "metadata": {},
   "outputs": [],
   "source": [
    "import pickle \n",
    "with open(\"global_similarity_file\", 'rb') as filehandler:\n",
    "    matrix_1 = pickle.load(filehandler)"
   ]
  },
  {
   "cell_type": "code",
   "execution_count": null,
   "metadata": {},
   "outputs": [],
   "source": []
  }
 ],
 "metadata": {
  "kernelspec": {
   "display_name": "Python 3",
   "language": "python",
   "name": "python3"
  },
  "language_info": {
   "codemirror_mode": {
    "name": "ipython",
    "version": 3
   },
   "file_extension": ".py",
   "mimetype": "text/x-python",
   "name": "python",
   "nbconvert_exporter": "python",
   "pygments_lexer": "ipython3",
   "version": "3.10.12"
  }
 },
 "nbformat": 4,
 "nbformat_minor": 2
}
